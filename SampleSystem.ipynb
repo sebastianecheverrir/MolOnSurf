{
 "cells": [
  {
   "cell_type": "markdown",
   "id": "e47c39e6-3bc6-436d-8162-fec7ec6e4233",
   "metadata": {},
   "source": [
    "The objective of this notebook is to make a sample simulation of a molecule on an surfface, using one of the universal interatomic potentials available in the Open Catalyst Project. \n",
    "\n",
    "More information about the project can be found here:\n",
    "* https://opencatalystproject.org/\n",
    "* https://github.com/Open-Catalyst-Project/ocp\n"
   ]
  },
  {
   "cell_type": "markdown",
   "id": "454c3cc3-cff4-4f13-bc1f-68b0fb20e2ba",
   "metadata": {},
   "source": [
    "Packages that need to be installed (use python 3.9.*):\n",
    "```\n",
    "pip install ase==3.22.1 black==22.3.0 e3nn==0.4.4  numpy==1.23.5  matplotlib  numba orjson pre-commit==2.10.*  pymatgen==2023.5.10 torch==1.13.1 syrupy==3.0.6 torch_geometric==2.2.0 pyyaml tensorboard tqdm pytest   submitit  wandb lmdb torch-sparse torch-scatter\n",
    "\n",
    "git clone https://github.com/Open-Catalyst-Project/ocp.git\n",
    "cd ocp\n",
    "pip install -e .\n",
    "```"
   ]
  },
  {
   "cell_type": "markdown",
   "id": "c77b26ee-65a1-4db5-a0d4-320f32b8f92f",
   "metadata": {},
   "source": [
    "In ASE, the interatomic potentials are loaded as \"Calculators\". There are several pre-trained models that can be loaded as \"Calculators\".\n",
    "\n",
    "One of them, GemNet-dT, can be downloaded from here:\n",
    "\n",
    "```https://dl.fbaipublicfiles.com/opencatalystproject/models/2021_08/s2ef/gemnet_t_direct_h512_all.pt``` \n",
    "\n",
    "This model is mentioned in the website ```https://github.com/Open-Catalyst-Project/ocp/blob/main/MODELS.md``` as part of \"S2EF models: optimized for EFwT\"\n"
   ]
  },
  {
   "cell_type": "markdown",
   "id": "9aa58d38-edbc-46c8-9078-7b41c0e8833b",
   "metadata": {},
   "source": [
    "The calculators can be used in the following manner. Here is an example taken from:\n",
    "\n",
    "```https://github.com/Open-Catalyst-Project/ocp/tree/main/tutorials```"
   ]
  },
  {
   "cell_type": "code",
   "execution_count": 1,
   "id": "9e815c97-7ce9-41e0-a2a8-cbdcbbe23064",
   "metadata": {},
   "outputs": [],
   "source": [
    "#import the needed packages\n",
    "from ocpmodels.common.relaxation.ase_utils import OCPCalculator\n",
    "# import ase.io\n",
    "from ase.io.trajectory import TrajectoryReader\n",
    "from ase.io import write\n",
    "\n",
    "from ase.optimize import BFGS\n",
    "from ase.build import fcc100, add_adsorbate, molecule\n",
    "import os\n",
    "from ase.constraints import FixAtoms\n",
    "import numpy as np\n",
    "\n"
   ]
  },
  {
   "cell_type": "code",
   "execution_count": 2,
   "id": "791ab185-eea8-47bf-97bd-0adc5aa08692",
   "metadata": {},
   "outputs": [],
   "source": [
    "#add a slab of fcc Cu\n",
    "adslab = fcc100(\"Cu\", size=(3, 3, 3))\n",
    "\n",
    "#Make the molecule that will interact with the slab\n",
    "adsorbate = molecule(\"C3H8\")\n",
    "\n",
    "#combine the slab(surface) with the molecule\n",
    "add_adsorbate(adslab, adsorbate, 3, offset=(1, 1))\n",
    "\n",
    "#fix some of the atoms\n",
    "tags = np.zeros(len(adslab))\n",
    "tags[18:27] = 1\n",
    "tags[27:] = 2\n",
    "adslab.set_tags(tags)\n",
    "cons= FixAtoms(indices=[atom.index for atom in adslab if (atom.tag == 0)])\n",
    "adslab.set_constraint(cons)\n",
    "\n",
    "#add vacuum on both sides of the simulation cell\n",
    "adslab.center(vacuum=13.0, axis=2)\n",
    "\n",
    "#make the simulation cell periodic\n",
    "adslab.set_pbc(True)\n",
    "\n"
   ]
  },
  {
   "cell_type": "code",
   "execution_count": 3,
   "id": "dce30e81-4850-40fa-b6a9-a33dd7a14be6",
   "metadata": {},
   "outputs": [],
   "source": [
    "# Define the calculator\n",
    "checkpoint_path = \"gemnet_t_direct_h512_all.pt\"\n",
    "calc = OCPCalculator(checkpoint_path=checkpoint_path,\n",
    "                    seed=1)\n",
    "\n",
    "# Set up the calculator\n",
    "adslab.calc = calc\n"
   ]
  },
  {
   "cell_type": "code",
   "execution_count": 4,
   "id": "4c1ac2ef-3470-4ee2-9cbe-124d43f1efa3",
   "metadata": {
    "scrolled": true
   },
   "outputs": [
    {
     "name": "stdout",
     "output_type": "stream",
     "text": [
      "      Step     Time          Energy         fmax\n",
      "BFGS:    0 16:25:05       -4.099784        1.5675\n",
      "BFGS:    1 16:25:05       -4.244462        1.1370\n",
      "BFGS:    2 16:25:06       -4.403120        0.7635\n",
      "BFGS:    3 16:25:07       -4.503652        0.8364\n",
      "BFGS:    4 16:25:07       -4.558208        0.7339\n",
      "BFGS:    5 16:25:08       -4.592069        0.4095\n",
      "BFGS:    6 16:25:08       -4.619358        0.7312\n",
      "BFGS:    7 16:25:09       -4.671457        0.9712\n",
      "BFGS:    8 16:25:09       -4.796457        0.9211\n",
      "BFGS:    9 16:25:10       -4.957972        0.9762\n",
      "BFGS:   10 16:25:11       -5.109441        1.0384\n",
      "BFGS:   11 16:25:11       -5.295613        1.2248\n",
      "BFGS:   12 16:25:12       -5.498967        1.1272\n",
      "BFGS:   13 16:25:12       -5.618080        1.0669\n",
      "BFGS:   14 16:25:13       -5.737114        0.9509\n",
      "BFGS:   15 16:25:13       -5.901928        0.9260\n",
      "BFGS:   16 16:25:14       -6.076118        1.2737\n",
      "BFGS:   17 16:25:15       -6.198387        1.2029\n",
      "BFGS:   18 16:25:15       -6.250327        0.6853\n",
      "BFGS:   19 16:25:16       -6.254098        0.2007\n",
      "BFGS:   20 16:25:16       -6.293957        0.1779\n",
      "BFGS:   21 16:25:17       -6.326335        0.2294\n",
      "BFGS:   22 16:25:18       -6.324455        0.1701\n",
      "BFGS:   23 16:25:18       -6.321292        0.1016\n",
      "BFGS:   24 16:25:19       -6.328435        0.0847\n",
      "BFGS:   25 16:25:19       -6.331916        0.0587\n",
      "BFGS:   26 16:25:20       -6.332079        0.0444\n",
      "BFGS:   27 16:25:20       -6.326734        0.0281\n",
      "BFGS:   28 16:25:21       -6.320087        0.0305\n",
      "BFGS:   29 16:25:21       -6.315656        0.0356\n",
      "BFGS:   30 16:25:22       -6.312833        0.0386\n",
      "BFGS:   31 16:25:23       -6.310837        0.0280\n",
      "BFGS:   32 16:25:23       -6.310262        0.0248\n",
      "BFGS:   33 16:25:24       -6.310396        0.0287\n",
      "BFGS:   34 16:25:24       -6.307872        0.0231\n",
      "BFGS:   35 16:25:25       -6.303181        0.0160\n",
      "BFGS:   36 16:25:25       -6.300552        0.0142\n",
      "BFGS:   37 16:25:26       -6.299692        0.0227\n",
      "BFGS:   38 16:25:27       -6.333156        0.0531\n",
      "BFGS:   39 16:25:27       -6.303936        0.0204\n",
      "BFGS:   40 16:25:28       -6.306687        0.0193\n",
      "BFGS:   41 16:25:29       -6.316299        0.0111\n",
      "BFGS:   42 16:25:29       -6.316700        0.0091\n",
      "BFGS:   43 16:25:30       -6.316750        0.0198\n",
      "BFGS:   44 16:25:30       -6.312523        0.0149\n",
      "BFGS:   45 16:25:31       -6.300780        0.0165\n",
      "BFGS:   46 16:25:32       -6.304413        0.0145\n",
      "BFGS:   47 16:25:33       -6.340048        0.0366\n",
      "BFGS:   48 16:25:33       -6.314526        0.0063\n",
      "BFGS:   49 16:25:34       -6.309914        0.0033\n"
     ]
    },
    {
     "data": {
      "text/plain": [
       "True"
      ]
     },
     "execution_count": 4,
     "metadata": {},
     "output_type": "execute_result"
    }
   ],
   "source": [
    "#run a minimisation\n",
    "os.makedirs(\"data/sample_ml_relax\", exist_ok=True)\n",
    "trajectory_path = \"data/sample_ml_relax/toy_c3h8_relax.traj\"\n",
    "opt = BFGS(adslab, \n",
    "           trajectory=trajectory_path)\n",
    "\n",
    "#Here we use a rather high value of fmax, and a small mnumber of iterations.\n",
    "#fmax should be smaller, and usually more interations are needed\n",
    "opt.run(fmax=0.005, steps=100)"
   ]
  },
  {
   "cell_type": "code",
   "execution_count": 5,
   "id": "82cc59e9-6b8c-46db-8467-620d00f7dcb3",
   "metadata": {},
   "outputs": [
    {
     "name": "stderr",
     "output_type": "stream",
     "text": [
      "/home/sebastian/.venv/ZDDP/lib/python3.9/site-packages/ase/io/extxyz.py:302: UserWarning: Skipping unhashable information adsorbate_info\n",
      "  warnings.warn('Skipping unhashable information '\n"
     ]
    }
   ],
   "source": [
    "#Save the trajectory as xyz. .xyz files can be visualised using Ovito\n",
    "\n",
    "trajectory = TrajectoryReader(trajectory_path)\n",
    "output_file_name = \"data/toy_c3h8_relax.xyz\"\n",
    "# output_file = open(output_file_name, 'w')\n",
    "\n",
    "for i, atoms in enumerate(trajectory):\n",
    "    if i==0:\n",
    "        write(output_file_name, atoms)\n",
    "    else:\n",
    "        write(output_file_name, atoms, append=True)\n"
   ]
  },
  {
   "cell_type": "code",
   "execution_count": null,
   "id": "4de4d532-6422-40a2-8aaa-53400b6a8592",
   "metadata": {},
   "outputs": [],
   "source": [
    "\n",
    "\n"
   ]
  }
 ],
 "metadata": {
  "kernelspec": {
   "display_name": "Python 3 (ipykernel)",
   "language": "python",
   "name": "python3"
  },
  "language_info": {
   "codemirror_mode": {
    "name": "ipython",
    "version": 3
   },
   "file_extension": ".py",
   "mimetype": "text/x-python",
   "name": "python",
   "nbconvert_exporter": "python",
   "pygments_lexer": "ipython3",
   "version": "3.9.19"
  }
 },
 "nbformat": 4,
 "nbformat_minor": 5
}
